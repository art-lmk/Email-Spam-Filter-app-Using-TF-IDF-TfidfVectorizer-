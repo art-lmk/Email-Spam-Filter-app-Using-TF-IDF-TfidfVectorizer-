{
  "nbformat": 4,
  "nbformat_minor": 0,
  "metadata": {
    "colab": {
      "provenance": [],
      "authorship_tag": "ABX9TyPzlnI2h1lIKA9WVpOokqwx",
      "include_colab_link": true
    },
    "kernelspec": {
      "name": "python3",
      "display_name": "Python 3"
    },
    "language_info": {
      "name": "python"
    }
  },
  "cells": [
    {
      "cell_type": "markdown",
      "metadata": {
        "id": "view-in-github",
        "colab_type": "text"
      },
      "source": [
        "<a href=\"https://colab.research.google.com/github/art-lmk/Email-Spam-Filter-app-Using-TF-IDF-TfidfVectorizer-/blob/main/Email_Spam_Filter_using_TF_IDF_Vectorization.ipynb\" target=\"_parent\"><img src=\"https://colab.research.google.com/assets/colab-badge.svg\" alt=\"Open In Colab\"/></a>"
      ]
    },
    {
      "cell_type": "code",
      "execution_count": 7,
      "metadata": {
        "id": "afTW3Q08vysc"
      },
      "outputs": [],
      "source": [
        "#import necessary dependencies and libraries\n",
        "import pandas as pd\n",
        "import numpy as np\n",
        "from sklearn.feature_extraction.text import TfidfVectorizer\n",
        "from sklearn.linear_model import LogisticRegression\n",
        "from sklearn.metrics import accuracy_score\n",
        "from sklearn.model_selection import train_test_split\n",
        "import warnings\n",
        "\n",
        "warnings. filterwarnings('ignore')"
      ]
    },
    {
      "cell_type": "code",
      "source": [
        "#load the data\n",
        "\n",
        "df= pd.read_csv('spam.csv')\n",
        "df.head(10)\n",
        "df.shape\n"
      ],
      "metadata": {
        "colab": {
          "base_uri": "https://localhost:8080/"
        },
        "id": "dJMvdpajylL4",
        "outputId": "46067099-04ed-474a-8c65-f10c6b8b89fc"
      },
      "execution_count": 15,
      "outputs": [
        {
          "output_type": "execute_result",
          "data": {
            "text/plain": [
              "(5572, 2)"
            ]
          },
          "metadata": {},
          "execution_count": 15
        }
      ]
    },
    {
      "cell_type": "code",
      "source": [
        "#Exploratory Data Analysis(EDA)\n",
        "df.isnull().sum()\n",
        "\n",
        "df.drop_duplicates(inplace=True)\n",
        "\n",
        "\n",
        "df['Category']= df['Category'].replace(['spam', 'ham'], ['Spam', 'Not Spam'])\n",
        "print(df)"
      ],
      "metadata": {
        "colab": {
          "base_uri": "https://localhost:8080/"
        },
        "id": "bfOCnHWMy2nS",
        "outputId": "2e0d45d4-d827-4ce3-8148-df4d52e5ee4f"
      },
      "execution_count": 18,
      "outputs": [
        {
          "output_type": "stream",
          "name": "stdout",
          "text": [
            "      Category                                            Message\n",
            "0     Not Spam  Go until jurong point, crazy.. Available only ...\n",
            "1     Not Spam                      Ok lar... Joking wif u oni...\n",
            "2         Spam  Free entry in 2 a wkly comp to win FA Cup fina...\n",
            "3     Not Spam  U dun say so early hor... U c already then say...\n",
            "4     Not Spam  Nah I don't think he goes to usf, he lives aro...\n",
            "...        ...                                                ...\n",
            "5567      Spam  This is the 2nd time we have tried 2 contact u...\n",
            "5568  Not Spam               Will ü b going to esplanade fr home?\n",
            "5569  Not Spam  Pity, * was in mood for that. So...any other s...\n",
            "5570  Not Spam  The guy did some bitching but I acted like i'd...\n",
            "5571  Not Spam                         Rofl. Its true to its name\n",
            "\n",
            "[5157 rows x 2 columns]\n"
          ]
        }
      ]
    }
  ]
}